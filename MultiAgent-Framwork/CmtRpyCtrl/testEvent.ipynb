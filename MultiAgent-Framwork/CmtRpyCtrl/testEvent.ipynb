{
 "cells": [
  {
   "cell_type": "code",
   "execution_count": 1,
   "metadata": {},
   "outputs": [
    {
     "name": "stdout",
     "output_type": "stream",
     "text": [
      "Current working directory: /Users/jackhan/Desktop/MultiAgent-Framwork/MultiAgent-Framwork/CmtRpyCtrl\n",
      "Config sections found: ['mysql', 'Paths', 'OpenAI', 'NetworkSocket']\n",
      "YAML content loaded successfully.\n",
      "Event YAML content loaded successfully.\n",
      "{'npcEvents': [{'npcId': 10016, 'npcName': 'Yves', 'events': [{'id': 'leaving_hollywood', 'intro': 'Left my acting career behind to become a painter.', 'details': ['My old phone was filled with unread messages from producers', 'The sketchboard in my trailer had been untouched for years', 'The folding easel was still packed from my art school days', 'My palette was dry, just like my creative spirit']}, {'id': 'painting_nova', 'intro': 'Found my true calling while painting in the lilac field.', 'details': ['The sketchboard framed her like a perfect shot', 'My palette found colors no camera could capture', \"The easel became my director's chair, but this scene was real\", 'My phone stayed silent, and I was finally the artist I wanted to be']}]}, {'npcId': 10020, 'npcName': 'Nova', 'events': [{'id': 'afternoon_in_garden', 'intro': 'Tended to my lilac garden in the afternoon sun.', 'details': ['My old watering can sparkled in the golden light', 'The gardening gloves were warm from the afternoon sun', 'The lilac flowers swayed in the gentle breeze', 'I never noticed the artist watching from afar']}]}]}\n"
     ]
    }
   ],
   "source": [
    "import CmtRpyLgcGPTProcess\n",
    "import os\n",
    "\n",
    "import yaml\n",
    "import pandas as pd\n",
    "\n",
    "# base_dir = os.path.abspath(os.path.join(os.path.dirname(__file__), '..'))\n",
    "base_dir = os.path.abspath(os.path.join(os.getcwd(), os.pardir))\n",
    "\n",
    "event_path = os.path.join(base_dir, 'keyEvent.yaml')\n",
    "# Load the YAML file\n",
    "with open(event_path, 'r', encoding='utf-8' ) as file:\n",
    "    event_config = yaml.safe_load(file)\n",
    "    print(\"Event YAML content loaded successfully.\")\n",
    "print(event_config)"
   ]
  },
  {
   "cell_type": "code",
   "execution_count": 8,
   "metadata": {},
   "outputs": [
    {
     "name": "stdout",
     "output_type": "stream",
     "text": [
      "{'npcId': 10016, 'npcName': 'Yves', 'events': [{'id': 'leaving_hollywood', 'intro': 'Left my acting career behind to become a painter.', 'details': ['My old phone was filled with unread messages from producers', 'The sketchboard in my trailer had been untouched for years', 'The folding easel was still packed from my art school days', 'My palette was dry, just like my creative spirit']}, {'id': 'painting_nova', 'intro': 'Found my true calling while painting in the lilac field.', 'details': ['The sketchboard framed her like a perfect shot', 'My palette found colors no camera could capture', \"The easel became my director's chair, but this scene was real\", 'My phone stayed silent, and I was finally the artist I wanted to be']}]}\n"
     ]
    }
   ],
   "source": [
    "npcId = 10016\n",
    "\n",
    "npc_events_entry = next((item for item in event_config.get('npcEvents', []) if item.get('npcId') == npcId), None)\n",
    "print(npc_events_entry)\n",
    "if npc_events_entry:\n",
    "    events_list = npc_events_entry.get('events', [])\n",
    "    events_data = []\n",
    "    for ev in events_list:\n",
    "        ev_id = ev.get('id')\n",
    "        ev_intro = ev.get('intro')\n",
    "        ev_detail = str(ev.get('details'))\n",
    "        ev_embedding = CmtRpyLgcGPTProcess.get_embedding(ev_intro)\n",
    "        events_data.append([ev_id, ev_intro, ev_detail, ev_embedding])\n",
    "    events_df = pd.DataFrame(events_data, columns=['eventId', 'intro', 'detail', 'embedding'])\n",
    "else:\n",
    "    events_df = pd.DataFrame(columns=['eventId', 'intro', 'detail', 'embedding'])"
   ]
  },
  {
   "cell_type": "code",
   "execution_count": 9,
   "metadata": {},
   "outputs": [
    {
     "data": {
      "text/html": [
       "<div>\n",
       "<style scoped>\n",
       "    .dataframe tbody tr th:only-of-type {\n",
       "        vertical-align: middle;\n",
       "    }\n",
       "\n",
       "    .dataframe tbody tr th {\n",
       "        vertical-align: top;\n",
       "    }\n",
       "\n",
       "    .dataframe thead th {\n",
       "        text-align: right;\n",
       "    }\n",
       "</style>\n",
       "<table border=\"1\" class=\"dataframe\">\n",
       "  <thead>\n",
       "    <tr style=\"text-align: right;\">\n",
       "      <th></th>\n",
       "      <th>eventId</th>\n",
       "      <th>intro</th>\n",
       "      <th>detail</th>\n",
       "      <th>embedding</th>\n",
       "    </tr>\n",
       "  </thead>\n",
       "  <tbody>\n",
       "    <tr>\n",
       "      <th>0</th>\n",
       "      <td>leaving_hollywood</td>\n",
       "      <td>Left my acting career behind to become a painter.</td>\n",
       "      <td>['My old phone was filled with unread messages...</td>\n",
       "      <td>[0.0006441478035412729, -0.008325561881065369,...</td>\n",
       "    </tr>\n",
       "    <tr>\n",
       "      <th>1</th>\n",
       "      <td>painting_nova</td>\n",
       "      <td>Found my true calling while painting in the li...</td>\n",
       "      <td>['The sketchboard framed her like a perfect sh...</td>\n",
       "      <td>[-0.015384423546493053, -0.026086006313562393,...</td>\n",
       "    </tr>\n",
       "  </tbody>\n",
       "</table>\n",
       "</div>"
      ],
      "text/plain": [
       "             eventId                                              intro  \\\n",
       "0  leaving_hollywood  Left my acting career behind to become a painter.   \n",
       "1      painting_nova  Found my true calling while painting in the li...   \n",
       "\n",
       "                                              detail  \\\n",
       "0  ['My old phone was filled with unread messages...   \n",
       "1  ['The sketchboard framed her like a perfect sh...   \n",
       "\n",
       "                                           embedding  \n",
       "0  [0.0006441478035412729, -0.008325561881065369,...  \n",
       "1  [-0.015384423546493053, -0.026086006313562393,...  "
      ]
     },
     "execution_count": 9,
     "metadata": {},
     "output_type": "execute_result"
    }
   ],
   "source": [
    "events_df"
   ]
  },
  {
   "cell_type": "code",
   "execution_count": 18,
   "metadata": {},
   "outputs": [],
   "source": [
    "commet_to_reply = \"Tell me about the your career\"\n",
    "comment_str = str(commet_to_reply)\n",
    "comment_embedding = CmtRpyLgcGPTProcess.get_embedding(comment_str)"
   ]
  },
  {
   "cell_type": "code",
   "execution_count": 19,
   "metadata": {},
   "outputs": [],
   "source": [
    "import numpy as np\n",
    "\n",
    "def cosine_similarity(vec1, vec2):\n",
    "    dot_product = np.dot(vec1, vec2)\n",
    "    norm1 = np.linalg.norm(vec1)\n",
    "    norm2 = np.linalg.norm(vec2)\n",
    "    return dot_product / (norm1 * norm2)\n",
    "\n",
    "# compute similarity between the comment and each event\n",
    "events_df['similary'] = events_df['embedding'].apply(lambda emb: cosine_similarity(emb, comment_embedding))\n",
    "selected_event = events_df.sort_values(by='similary', ascending=False).head(1)"
   ]
  },
  {
   "cell_type": "code",
   "execution_count": 22,
   "metadata": {},
   "outputs": [
    {
     "data": {
      "text/html": [
       "<div>\n",
       "<style scoped>\n",
       "    .dataframe tbody tr th:only-of-type {\n",
       "        vertical-align: middle;\n",
       "    }\n",
       "\n",
       "    .dataframe tbody tr th {\n",
       "        vertical-align: top;\n",
       "    }\n",
       "\n",
       "    .dataframe thead th {\n",
       "        text-align: right;\n",
       "    }\n",
       "</style>\n",
       "<table border=\"1\" class=\"dataframe\">\n",
       "  <thead>\n",
       "    <tr style=\"text-align: right;\">\n",
       "      <th></th>\n",
       "      <th>eventId</th>\n",
       "      <th>intro</th>\n",
       "      <th>detail</th>\n",
       "      <th>embedding</th>\n",
       "      <th>similary</th>\n",
       "    </tr>\n",
       "  </thead>\n",
       "  <tbody>\n",
       "    <tr>\n",
       "      <th>0</th>\n",
       "      <td>leaving_hollywood</td>\n",
       "      <td>Left my acting career behind to become a painter.</td>\n",
       "      <td>['My old phone was filled with unread messages...</td>\n",
       "      <td>[0.0006441478035412729, -0.008325561881065369,...</td>\n",
       "      <td>0.368861</td>\n",
       "    </tr>\n",
       "  </tbody>\n",
       "</table>\n",
       "</div>"
      ],
      "text/plain": [
       "             eventId                                              intro  \\\n",
       "0  leaving_hollywood  Left my acting career behind to become a painter.   \n",
       "\n",
       "                                              detail  \\\n",
       "0  ['My old phone was filled with unread messages...   \n",
       "\n",
       "                                           embedding  similary  \n",
       "0  [0.0006441478035412729, -0.008325561881065369,...  0.368861  "
      ]
     },
     "execution_count": 22,
     "metadata": {},
     "output_type": "execute_result"
    }
   ],
   "source": [
    "# Filter for similarity > 0.3 and pick at most top 3 events\n",
    "threshold = 0.3\n",
    "selected_event = (\n",
    "    events_df[events_df['similary'] > threshold]\n",
    "    .sort_values(by='similary', ascending=False)\n",
    "    .head(3)\n",
    ")\n",
    "selected_event\n"
   ]
  },
  {
   "cell_type": "code",
   "execution_count": 24,
   "metadata": {},
   "outputs": [],
   "source": [
    "import ast\n",
    "\n",
    "# Build paragraphs by combining intro and detailed points\n",
    "paragraphs = []\n",
    "for _, row in selected_event.iterrows():\n",
    "    # Parse the stringified list of details back into a Python list\n",
    "    details_list = ast.literal_eval(row['detail'])\n",
    "    # Join all detail items into a single string\n",
    "    details_text = \" \".join(details_list)\n",
    "    # Form the paragraph: intro followed by details\n",
    "    paragraph = f\"{row['intro']} {details_text}\"\n",
    "    paragraphs.append(paragraph)\n",
    "\n",
    "\n",
    "relevent_event = \"\\n\\n\".join(\n",
    "    f\"relevent event {idx}: {para}\"\n",
    "    for idx, para in enumerate(paragraphs, start=1)\n",
    ")\n"
   ]
  },
  {
   "cell_type": "code",
   "execution_count": 25,
   "metadata": {},
   "outputs": [
    {
     "data": {
      "text/plain": [
       "'relevent event 1: Left my acting career behind to become a painter. My old phone was filled with unread messages from producers The sketchboard in my trailer had been untouched for years The folding easel was still packed from my art school days My palette was dry, just like my creative spirit'"
      ]
     },
     "execution_count": 25,
     "metadata": {},
     "output_type": "execute_result"
    }
   ],
   "source": [
    "relevent_event"
   ]
  },
  {
   "cell_type": "code",
   "execution_count": null,
   "metadata": {},
   "outputs": [],
   "source": []
  }
 ],
 "metadata": {
  "kernelspec": {
   "display_name": "aitown",
   "language": "python",
   "name": "python3"
  },
  "language_info": {
   "codemirror_mode": {
    "name": "ipython",
    "version": 3
   },
   "file_extension": ".py",
   "mimetype": "text/x-python",
   "name": "python",
   "nbconvert_exporter": "python",
   "pygments_lexer": "ipython3",
   "version": "3.11.4"
  }
 },
 "nbformat": 4,
 "nbformat_minor": 2
}
