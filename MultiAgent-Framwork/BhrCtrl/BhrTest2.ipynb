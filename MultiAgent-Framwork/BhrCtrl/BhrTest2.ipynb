{
 "cells": [
  {
   "cell_type": "code",
   "execution_count": 7,
   "metadata": {},
   "outputs": [
    {
     "name": "stdout",
     "output_type": "stream",
     "text": [
      "Current working directory: /Users/jackhan/Desktop/MultiAgent-Framwork/MultiAgent-Framwork/BhrCtrl\n",
      "/Users/jackhan/Desktop/MultiAgent-Framwork/MultiAgent-Framwork/config.ini\n",
      "Config sections found: ['mysql', 'Paths', 'OpenAI', 'NetworkSocket']\n",
      "YAML content loaded successfully.\n"
     ]
    }
   ],
   "source": [
    "import json\n",
    "import copy\n",
    "from datetime import datetime\n",
    "import configparser\n",
    "import os\n",
    "import yaml\n",
    "import random\n",
    "\n",
    "from openai import OpenAI\n",
    "\n",
    "print(\"Current working directory:\", os.getcwd())\n",
    "\n",
    "config = configparser.ConfigParser()\n",
    "# Adjust path to look for config.ini in AImodule regardless of the current directory\n",
    "base_dir = os.path.abspath(os.path.join(os.path.dirname(os.getcwd()), '.'))\n",
    "config_path = os.path.join(base_dir, 'config.ini')\n",
    "print(config_path)\n",
    "config.read(config_path)\n",
    "\n",
    "print(\"Config sections found:\", config.sections())\n",
    "\n",
    "if 'OpenAI' not in config:\n",
    "    print(\"Error: 'OpenAI' section not found in config.ini\")\n",
    "openai_key = config['OpenAI']['chatgpt_key']\n",
    "# deepseek_key1 = config['OpenAI']['deepseek_key']\n",
    "# deepseek_key2 = config['OpenAI']['deepseek_key2']\n",
    "# deepseek_key = random.choice([\n",
    "#     config['OpenAI']['deepseek_key'],\n",
    "#     config['OpenAI']['deepseek_key2']\n",
    "# ])\n",
    "deepseek_key=config['OpenAI']['deepseek_key']\n",
    "\n",
    "is_chatgpt = config['OpenAI'].getboolean('useChatGPT', fallback=True)\n",
    "if is_chatgpt:\n",
    "    client = OpenAI(api_key=openai_key)\n",
    "    client_embedding = OpenAI(api_key=openai_key)\n",
    "    model_small = \"gpt-4o-mini\"\n",
    "    model_large = \"gpt-4o\"\n",
    "else:\n",
    "    # client = OpenAI(base_url=\"https://openrouter.ai/api/v1\", api_key=deepseek_key) \n",
    "    client = OpenAI(base_url=\"https://api.deepseek.com\", api_key=deepseek_key) \n",
    "    client_embedding = OpenAI(api_key=openai_key)\n",
    "    # model_small = \"deepseek/deepseek-r1-distill-llama-70b\"\n",
    "    # model_large = \"deepseek/deepseek-r1-distill-llama-70b\"\n",
    "    model_small = \"deepseek-chat\"\n",
    "    model_large = \"deepseek-chat\"\n",
    "\n",
    "\n",
    "yaml_path = os.path.join(base_dir, 'char_config.yaml')\n",
    "\n",
    "# Load the YAML file\n",
    "with open(yaml_path, 'r', encoding='utf-8' ) as file:\n",
    "    char_config = yaml.safe_load(file)\n",
    "    print(\"YAML content loaded successfully.\")\n",
    "\n",
    "\n",
    "def get_npc_descriptions(from_npcId=None):\n",
    "    \"\"\"\n",
    "    Returns a string with each NPC's name and a brief part of their description,\n",
    "    one per line, in the format: \"- Name, Description (first sentence).\"\n",
    "    \"\"\"\n",
    "    # Define NPC groups\n",
    "    group1 = {10016, 10017, 10018, 10019, 10020, 10021}\n",
    "    group2 = {10012, 10009, 10006}\n",
    "\n",
    "    # Determine allowed NPC IDs based on from_npcId\n",
    "    if from_npcId is not None:\n",
    "        if from_npcId in group1:\n",
    "            allowed_ids = group1\n",
    "        elif from_npcId in group2:\n",
    "            allowed_ids = group2\n",
    "        else:\n",
    "            allowed_ids = set()\n",
    "    else:\n",
    "        allowed_ids = None\n",
    "\n",
    "    descriptions = []\n",
    "    for npc in char_config.get(\"npcCharacters\", []):\n",
    "        # Skip NPCs not in the allowed set when filtering\n",
    "        if allowed_ids is not None and npc.get(\"npcId\") not in allowed_ids:\n",
    "            continue\n",
    "        # Get the first sentence (or a summary) from the description.\n",
    "        brief_desc = npc.get(\"description\", \"\").split(\".\")[0]\n",
    "        descriptions.append(f\"- {npc['name']}, {brief_desc}.\")\n",
    "    return \"\\n\".join(descriptions)\n",
    "\n",
    "def get_npc_id_mapping():\n",
    "    \"\"\"\n",
    "    Returns a string mapping npcId to name, one per line, in the format: \"npcId : Name\".\n",
    "    \"\"\"\n",
    "    mappings = []\n",
    "    for npc in char_config.get(\"npcCharacters\", []):\n",
    "        mappings.append(f\"{npc['npcId']} : {npc['name']}\")\n",
    "    return \"\\n\".join(mappings)"
   ]
  },
  {
   "cell_type": "code",
   "execution_count": 10,
   "metadata": {},
   "outputs": [
    {
     "data": {
      "text/plain": [
       "'- Leo, Leo, the introspective artist of DraMai Town, crafts silence into strokes of color.\\n- Nova, Nova, the spirited farmer of DraMai Town, infuses vitality into every inch of her land.\\n- Aiden, Aiden, DraMai Town’s golden athlete, carries the glow of past triumphs and the determination to redefine himself.\\n- Ivy, Ivy, the gentle baker of DraMai Town, fills the community with the aroma of freshly baked bread and heartfelt warmth.\\n- Qiu, Qiu, DraMai Town’s enigmatic investor, moves with the grace of someone used to both boardrooms and spotlight.\\n- Kai, Kai, the methodical lawyer of DraMai Town, upholds justice with both precision and compassion.'"
      ]
     },
     "execution_count": 10,
     "metadata": {},
     "output_type": "execute_result"
    }
   ],
   "source": [
    "get_npc_descriptions(10017)"
   ]
  },
  {
   "cell_type": "code",
   "execution_count": 6,
   "metadata": {},
   "outputs": [
    {
     "data": {
      "text/plain": [
       "'10012 : Trump\\n10009 : Elon Musk\\n10006 : Satoshi\\n10016 : Leo\\n10020 : Nova\\n10021 : Aiden\\n10017 : Ivy\\n10019 : Qiu\\n10018 : Kai'"
      ]
     },
     "execution_count": 6,
     "metadata": {},
     "output_type": "execute_result"
    }
   ],
   "source": [
    "get_npc_id_mapping()"
   ]
  },
  {
   "cell_type": "code",
   "execution_count": null,
   "metadata": {},
   "outputs": [],
   "source": []
  }
 ],
 "metadata": {
  "kernelspec": {
   "display_name": "aitown",
   "language": "python",
   "name": "python3"
  },
  "language_info": {
   "codemirror_mode": {
    "name": "ipython",
    "version": 3
   },
   "file_extension": ".py",
   "mimetype": "text/x-python",
   "name": "python",
   "nbconvert_exporter": "python",
   "pygments_lexer": "ipython3",
   "version": "3.11.4"
  }
 },
 "nbformat": 4,
 "nbformat_minor": 2
}
